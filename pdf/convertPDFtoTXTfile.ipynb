{
 "cells": [
  {
   "cell_type": "code",
   "execution_count": null,
   "metadata": {},
   "outputs": [
    {
     "name": "stdout",
     "output_type": "stream",
     "text": [
      "Successfully converted 'R2021_World Duty Free v. Commission.pdf' to 'R2021_World Duty Free v. Commission.txt'\n"
     ]
    }
   ],
   "source": [
    "import fitz  \n",
    "import os\n",
    "\n",
    "def convert_pdf_to_text(pdf_path, output_path=None):\n",
    "    if output_path is None:\n",
    "        output_path = os.path.splitext(pdf_path)[0] + '.txt'\n",
    "    \n",
    "    doc = fitz.open(pdf_path)\n",
    "    \n",
    "    with open(output_path, 'w', encoding='utf-8') as text_file:\n",
    "        for page_num in range(len(doc)):\n",
    "            page = doc[page_num]\n",
    "            text = page.get_text(\"text\")\n",
    "            text_file.write(text + '\\n\\n')\n",
    "    \n",
    "    print(f\"Successfully converted '{pdf_path}' to '{output_path}'\")\n",
    "    return output_path"
   ]
  },
  {
   "cell_type": "code",
   "execution_count": null,
   "metadata": {},
   "outputs": [],
   "source": [
    "pdf_path = \"R2021_World Duty Free v. Commission.pdf\"\n",
    "convert_pdf_to_text(pdf_path, \"R2021_World Duty Free v. Commission.txt\")"
   ]
  }
 ],
 "metadata": {
  "kernelspec": {
   "display_name": "base",
   "language": "python",
   "name": "python3"
  },
  "language_info": {
   "codemirror_mode": {
    "name": "ipython",
    "version": 3
   },
   "file_extension": ".py",
   "mimetype": "text/x-python",
   "name": "python",
   "nbconvert_exporter": "python",
   "pygments_lexer": "ipython3",
   "version": "3.12.2"
  }
 },
 "nbformat": 4,
 "nbformat_minor": 2
}
